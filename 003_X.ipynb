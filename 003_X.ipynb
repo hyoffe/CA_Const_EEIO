{
 "cells": [
  {
   "cell_type": "code",
   "execution_count": 1,
   "metadata": {},
   "outputs": [],
   "source": [
    "## Upload libraries\n",
    "import sys\n",
    "import pandas as pd\n",
    "import numpy as np\n",
    "\n",
    "#upload HY funcitons\n",
    "from Functions.calc_func import * \n",
    "from Functions.upload_functions import * \n",
    "\n",
    "# export file path:\n",
    "expath = 'C:/Users/Hatzav/OneDrive - University of Toronto/HY_UofT/002CarbonBudgeting/Code/CA_Const_EEIO/Data/csv_exports'"
   ]
  },
  {
   "cell_type": "code",
   "execution_count": 2,
   "metadata": {},
   "outputs": [],
   "source": [
    "## IO Tables. (CIRAIG, CanadaIO V2.4, 2022) 2018 Statistics Canada data\n",
    "\n",
    "# A\tThe technology matrix (16196 rows × 16196 columns) shows the normalized inter-industry trade. Read the information as \"To produce 1$ of the product from the column, I need X$ of the product from the row\"\t\t\t\t\t\t\t\t\t\t\t\t\t\t\t\t\t\n",
    "\t\t\t\t\t\t\t\t\t\t\t\t\t\t\t\n",
    "# Y\tThe final demand matrix (16196 rows × 3627 columns) shows the demands from the different end-users. Read the information as \"The consumer category from the column has bought X$ of the product in the row during the given year\"\t\t\t\t\t\t\t\t\t\t\t\t\t\t\t\t\t\t\t\n",
    "\t\t\t\t\t\t\t\t\t\t\t\t\t\t\t\t\t\t\t\t\n",
    "# R\tR (104 rows × 6396 columns) gives the factors of production (taxes, value-added, subsidies, etc.). Read the information as \"To produce 1$ of the product from the column, I need X$ of factors of production from the row\"\t\t\t\t\t\t\t\t\t\t\t\t\t\t\t\t\t\t\t\n",
    "\t\t\t\t\t\t\t\t\t\t\t\t\t\t\t\t\t\t\t\t\n",
    "# S\t(11085 rows × 16196 columns) The normalized environmental extensions give the normalized direct emissions for each product. Read the information as \"To produce 1$ of the product from the column, I emit Xkg of the pollutant from the row\"\t\t\t\t\t\t\t\t\t\t\t\t\t\t\t\t\t\t\t\n",
    "\t\t\t\t\t\t\t\t\t\t\t\t\t\t\t\t\t\t\t\t\n",
    "# FY The direct emissions from the final demand gives the direct emissions from the different end-users, which are thus not directly linked to an economic activity (e.g., burning diesel in one's car). Read the information as \"The consumer category from the column has directly emitted Xkg of pollutant from the row during the given year\"\t\t\t\t\t\t\t\t\t\t\t\t\t\t\t\t\t\t\t\n",
    "\t\t\t\t\t\t\t\t\t\t\t\t\t\t\t\t\t\t\t\t\n",
    "# C\t(33 rows × 11085 columns) The characterization matrix converts emissions of pollutants to impacts on the environment. Read the information as \"The pollutant from the column has an impact of X on the impact category from the row\"\t\t\t\t\t\t\t\t\t\t\t\t\t\t\t\t\t\t\t\n",
    "\t\t\t\t\t\t\t\t\t\t\t\t\t\t\t\t\t\t\t\t\n",
    "# L (16196 rows × 16196 columns) Liontief matrix\n",
    "\n",
    "# FY (11085 rows × 3627 columns) - Direct emissions"
   ]
  },
  {
   "cell_type": "code",
   "execution_count": 2,
   "metadata": {},
   "outputs": [
    {
     "name": "stdout",
     "output_type": "stream",
     "text": [
      "Couldnt load file on VM\n",
      "loading craig_Yfinal_demand.csv from hard drive...\n",
      "craig_Yfinal_demand.csv loaded successfuly\n",
      "Couldnt load file on VM\n",
      "loading craig_L_matrix.csv from hard drive...\n",
      "craig_L_matrix.csv loaded successfuly\n",
      "Couldnt load file on VM\n",
      "loading craig_S_norm_env_flow_matrix.csv from hard drive...\n",
      "craig_S_norm_env_flow_matrix.csv loaded successfuly\n",
      "Couldnt load file on VM\n",
      "loading craig_C_characterization_matrix.csv from hard drive...\n",
      "craig_C_characterization_matrix.csv loaded successfuly\n",
      "Table CS calculated successfuly\n",
      "\n",
      " All tables loaded successfuly\n"
     ]
    }
   ],
   "source": [
    "#This cell loads all od CIRAIG's IO tables\n",
    "# Tables use 2018 Stat Can. IO data, and openIO V2.4 EEIO model\n",
    "\n",
    "#load Y table - final demand matrix (16196 rows × 3627)\n",
    "#make sure to assign columns as indexes and headars, if not deafault\n",
    "\n",
    "tables_Y = machine_loc('craig_Yfinal_demand.csv')\n",
    "# load R matrix (104 rows × 6396 columns)\n",
    "#tables_R = machine_loc('craig_R_norm_tech_matrix.csv',index_colf = [0,1], headerf = [0,1])\n",
    "#load A matrix (16196 rows × 16196 columns)\n",
    "#tables_A = machine_loc('craig_A_matrix.csv',index_colf = [0,1], headerf = [0,1])\n",
    "#load L matrix (16196 rows × 16196 columns)\n",
    "tables_L = machine_loc('craig_L_matrix.csv',index_colf = [0,1], headerf = [0,1])\n",
    "#load S matrix (11085 rows × 16196 columns)\n",
    "tables_S = machine_loc('craig_S_norm_env_flow_matrix.csv',index_colf = [0], headerf = [0,1])\n",
    "#load C matrix (33 rows × 11085 columns)\n",
    "tables_C = machine_loc('craig_C_characterization_matrix.csv',index_colf = [0,1], headerf = 0)\n",
    "#load FY matrix (11085 rows × 3626 columns)\n",
    "#tables_FY = machine_loc('craig_FY_direct_emissions_matrix.csv',index_colf = [0,1], headerf = [0,1,2])\n",
    "\n",
    "# calculate (C)(S) table - environmental impact\n",
    "tables_CS = tables_C.dot(tables_S)\n",
    "print('Table CS calculated successfuly')\n",
    "\n",
    "print('\\n All tables loaded successfuly')"
   ]
  },
  {
   "cell_type": "code",
   "execution_count": 3,
   "metadata": {},
   "outputs": [
    {
     "data": {
      "text/plain": [
       "['CA-NL',\n",
       " 'CA-PE',\n",
       " 'CA-NS',\n",
       " 'CA-NB',\n",
       " 'CA-QC',\n",
       " 'CA-ON',\n",
       " 'CA-MB',\n",
       " 'CA-SK',\n",
       " 'CA-AB',\n",
       " 'CA-BC',\n",
       " 'CA-YT',\n",
       " 'CA-NT',\n",
       " 'CA-NU']"
      ]
     },
     "execution_count": 3,
     "metadata": {},
     "output_type": "execute_result"
    }
   ],
   "source": [
    "# Canada Province list s loaded.\n",
    "provinces = ['CA-NL', 'CA-PE', 'CA-NS', 'CA-NB', 'CA-QC', 'CA-ON', 'CA-MB', 'CA-SK', 'CA-AB', 'CA-BC', 'CA-YT', 'CA-NT', 'CA-NU']\n",
    "provinces"
   ]
  },
  {
   "cell_type": "markdown",
   "metadata": {},
   "source": [
    "##  Calculate X total output of sector."
   ]
  },
  {
   "cell_type": "code",
   "execution_count": 4,
   "metadata": {},
   "outputs": [
    {
     "data": {
      "text/html": [
       "<div>\n",
       "<style scoped>\n",
       "    .dataframe tbody tr th:only-of-type {\n",
       "        vertical-align: middle;\n",
       "    }\n",
       "\n",
       "    .dataframe tbody tr th {\n",
       "        vertical-align: top;\n",
       "    }\n",
       "\n",
       "    .dataframe thead tr th {\n",
       "        text-align: left;\n",
       "    }\n",
       "</style>\n",
       "<table border=\"1\" class=\"dataframe\">\n",
       "  <thead>\n",
       "    <tr>\n",
       "      <th></th>\n",
       "      <th></th>\n",
       "      <th>(CA-ON, Gross fixed capital formation, Construction)</th>\n",
       "    </tr>\n",
       "    <tr>\n",
       "      <th></th>\n",
       "      <th></th>\n",
       "      <th>kg CO2 eq (short)</th>\n",
       "    </tr>\n",
       "  </thead>\n",
       "  <tbody>\n",
       "    <tr>\n",
       "      <th>CA-ON</th>\n",
       "      <th>Ready-mixed concrete</th>\n",
       "      <td>1.910424e+09</td>\n",
       "    </tr>\n",
       "    <tr>\n",
       "      <th>CN</th>\n",
       "      <th>Electricity by coal</th>\n",
       "      <td>9.533534e+08</td>\n",
       "    </tr>\n",
       "    <tr>\n",
       "      <th rowspan=\"2\" valign=\"top\">CA-ON</th>\n",
       "      <th>Residential buildings</th>\n",
       "      <td>8.965944e+08</td>\n",
       "    </tr>\n",
       "    <tr>\n",
       "      <th>Concrete products</th>\n",
       "      <td>7.327438e+08</td>\n",
       "    </tr>\n",
       "    <tr>\n",
       "      <th>CN</th>\n",
       "      <th>Basic iron and steel and of ferro-alloys and first products thereof</th>\n",
       "      <td>5.020737e+08</td>\n",
       "    </tr>\n",
       "    <tr>\n",
       "      <th>...</th>\n",
       "      <th>...</th>\n",
       "      <td>...</td>\n",
       "    </tr>\n",
       "    <tr>\n",
       "      <th>US</th>\n",
       "      <th>Secondary glass for treatment, Re-processing of secondary glass into new glass</th>\n",
       "      <td>0.000000e+00</td>\n",
       "    </tr>\n",
       "    <tr>\n",
       "      <th>CA-BC</th>\n",
       "      <th>Other metal ores and concentrates</th>\n",
       "      <td>0.000000e+00</td>\n",
       "    </tr>\n",
       "    <tr>\n",
       "      <th rowspan=\"2\" valign=\"top\">CA-ON</th>\n",
       "      <th>Trusteed pension fund services</th>\n",
       "      <td>0.000000e+00</td>\n",
       "    </tr>\n",
       "    <tr>\n",
       "      <th>Mutual funds (cost of service) and other similar services</th>\n",
       "      <td>0.000000e+00</td>\n",
       "    </tr>\n",
       "    <tr>\n",
       "      <th>WM</th>\n",
       "      <th>Extra-territorial organizations and bodies</th>\n",
       "      <td>0.000000e+00</td>\n",
       "    </tr>\n",
       "  </tbody>\n",
       "</table>\n",
       "<p>16196 rows × 1 columns</p>\n",
       "</div>"
      ],
      "text/plain": [
       "                                                         (CA-ON, Gross fixed capital formation, Construction)\n",
       "                                                                                            kg CO2 eq (short)\n",
       "CA-ON Ready-mixed concrete                                                                     1.910424e+09  \n",
       "CN    Electricity by coal                                                                      9.533534e+08  \n",
       "CA-ON Residential buildings                                                                    8.965944e+08  \n",
       "      Concrete products                                                                        7.327438e+08  \n",
       "CN    Basic iron and steel and of ferro-alloys and fi...                                       5.020737e+08  \n",
       "...                                                                                                     ...  \n",
       "US    Secondary glass for treatment, Re-processing of...                                       0.000000e+00  \n",
       "CA-BC Other metal ores and concentrates                                                        0.000000e+00  \n",
       "CA-ON Trusteed pension fund services                                                           0.000000e+00  \n",
       "      Mutual funds (cost of service) and other simila...                                       0.000000e+00  \n",
       "WM    Extra-territorial organizations and bodies                                               0.000000e+00  \n",
       "\n",
       "[16196 rows x 1 columns]"
      ]
     },
     "execution_count": 4,
     "metadata": {},
     "output_type": "execute_result"
    }
   ],
   "source": [
    "# this calculates the env impact for ()'CA-ON', 'Gross fixed capital formation, Construction')\n",
    "#define province /sector /sub sector\n",
    "province = 'CA-ON'\n",
    "sector = 'Gross fixed capital formation, Construction'\n",
    "sub_sector = 'Residential structures'\n",
    "# this parameter will propegate as a headar to the env impact table\n",
    "final_demand_category = (province, sector)\n",
    "final_demand_category\n",
    "\n",
    "#This line findes the final demand category to analyze (province, sector, sub sector)\n",
    "on_GFCFC_Y  = tables_Y[(final_demand_category)]\n",
    "# transformation to df requiered for dot() multiplication\n",
    "on_GFCFC_Y  = pd.DataFrame(on_GFCFC_Y)\n",
    "on_GFCFC_Y \n",
    "\n",
    "# 1. this line calc total output of sector. X = (L)16Kx16K * (Y)16Kx1\n",
    "on_GFCFC_X = vector_X(tables_L, on_GFCFC_Y)\n",
    "#call diagonolised X table. [0]  is the vector_X series, [1] is the diagonolized df\n",
    "\n",
    "#2. Calculate environmental impact. returnes kgCO2e for called total output vector  \n",
    "# call [1] for diagonal or [0] sector summary\n",
    "on_GFCFC_CO2e = env_impact(tables_CS, on_GFCFC_X[1])\n",
    "\n",
    "#3. assign title to column  \n",
    "on_GFCFC_CO2e = pd.DataFrame(on_GFCFC_CO2e).rename(\n",
    "    columns = {'Climate change, short term': final_demand_category})\n",
    "on_GFCFC_CO2e"
   ]
  },
  {
   "cell_type": "code",
   "execution_count": 6,
   "metadata": {},
   "outputs": [
    {
     "name": "stdout",
     "output_type": "stream",
     "text": [
      "12279628449.10872 , is the total output (X) for GCF construction in CA-NL\n",
      "1616372998.458162 , is the total output (X) for GCF construction in CA-PE\n",
      "10312930972.68797 , is the total output (X) for GCF construction in CA-NS\n",
      "8636171976.411188 , is the total output (X) for GCF construction in CA-NB\n",
      "109410276236.34576 , is the total output (X) for GCF construction in CA-QC\n",
      "216082197878.02716 , is the total output (X) for GCF construction in CA-ON\n",
      "22963418322.139572 , is the total output (X) for GCF construction in CA-MB\n",
      "29978201792.889385 , is the total output (X) for GCF construction in CA-SK\n",
      "132657818043.44041 , is the total output (X) for GCF construction in CA-AB\n",
      "104176419289.08936 , is the total output (X) for GCF construction in CA-BC\n",
      "1466182536.6492007 , is the total output (X) for GCF construction in CA-YT\n",
      "1758236941.8665233 , is the total output (X) for GCF construction in CA-NT\n",
      "2963135303.398187 , is the total output (X) for GCF construction in CA-NU\n"
     ]
    }
   ],
   "source": [
    "#this block calculates the GCF construction total -output(X) for every province\n",
    "#and appends it.\n",
    "gfc_const_X = []\n",
    "\n",
    "for province in provinces:\n",
    "    # 1. defince Y vector\n",
    "    gfcfc_Y = tables_Y[(province,'Gross fixed capital formation, Construction')].sum(1)\n",
    "    #res_structY = pd.DataFrame(res_structY)\n",
    "    # 2. Calculating encironemtnal impact using CIRIAGS's IO tables\n",
    "    total_output = (tables_L).dot(gfcfc_Y)\n",
    "    total_sum = total_output.sum()\n",
    "    gfc_const_X.append(round(total_sum,0))\n",
    "    print (str(total_sum) +' , is the total output (X) for GCF construction in ' + province)\n"
   ]
  },
  {
   "attachments": {},
   "cell_type": "markdown",
   "metadata": {},
   "source": [
    "## Comparison DF GCFC, Res_building_, Res_X*0.27  "
   ]
  },
  {
   "cell_type": "code",
   "execution_count": 10,
   "metadata": {},
   "outputs": [
    {
     "name": "stdout",
     "output_type": "stream",
     "text": [
      "CA-NL GFC Construction 1.925 MTCO2e\n",
      "CA-PE GFC Construction 0.223 MTCO2e\n",
      "CA-NS GFC Construction 1.776 MTCO2e\n",
      "CA-NB GFC Construction 1.156 MTCO2e\n",
      "CA-QC GFC Construction 13.709 MTCO2e\n",
      "CA-ON GFC Construction 26.824 MTCO2e\n",
      "CA-MB GFC Construction 3.124 MTCO2e\n",
      "CA-SK GFC Construction 5.487 MTCO2e\n",
      "CA-AB GFC Construction 20.052 MTCO2e\n",
      "CA-BC GFC Construction 14.49 MTCO2e\n",
      "CA-YT GFC Construction 0.195 MTCO2e\n",
      "CA-NT GFC Construction 0.292 MTCO2e\n",
      "CA-NU GFC Construction 0.364 MTCO2e\n",
      "[1.925, 0.223, 1.776, 1.156, 13.709, 26.824, 3.124, 5.487, 20.052, 14.49, 0.195, 0.292, 0.364]\n"
     ]
    }
   ],
   "source": [
    "#1. this block calculates the GCF, Construction emissions for every province in MTCO2e\n",
    "#and appends it to a list. CIRAIG's method\n",
    "gcf_construction_MTCO2ciraig = list()\n",
    "for province in provinces:\n",
    "    # 1. defince Y vector\n",
    "    gfc_const = tables_Y[(province,'Gross fixed capital formation, Construction')]\n",
    "    \n",
    "    # 2. Calculating encironemtnal impact using CIRIAGS's IO tables\n",
    "    total_output = tables_C.dot(tables_S).dot(tables_L).dot(gfc_const)\n",
    "    total_output\n",
    "\n",
    "    ## 3. This lin sorts out the short term impacts of the selected data\n",
    "    report_list1 = total_output.loc[('Climate change, short term','kg CO2 eq (short)')].T.sort_values(ascending=False).sum()\n",
    "    report_list1 = round(report_list1.sum()/1000000000, 3)\n",
    "        # Calculation Message\n",
    "    print(province +' GFC Construction '+ str(report_list1) +' MTCO2e')\n",
    "    gcf_construction_MTCO2ciraig.append(report_list1)\n",
    "print (gcf_construction_MTCO2ciraig)"
   ]
  },
  {
   "cell_type": "code",
   "execution_count": 11,
   "metadata": {},
   "outputs": [
    {
     "name": "stdout",
     "output_type": "stream",
     "text": [
      "CA-NL GFC res structures 0.284 MTCO2e\n",
      "CA-PE GFC res structures 0.117 MTCO2e\n",
      "CA-NS GFC res structures 0.976 MTCO2e\n",
      "CA-NB GFC res structures 0.42 MTCO2e\n",
      "CA-QC GFC res structures 6.843 MTCO2e\n",
      "CA-ON GFC res structures 13.454 MTCO2e\n",
      "CA-MB GFC res structures 1.174 MTCO2e\n",
      "CA-SK GFC res structures 1.002 MTCO2e\n",
      "CA-AB GFC res structures 5.755 MTCO2e\n",
      "CA-BC GFC res structures 7.614 MTCO2e\n",
      "CA-YT GFC res structures 0.046 MTCO2e\n",
      "CA-NT GFC res structures 0.028 MTCO2e\n",
      "CA-NU GFC res structures 0.01 MTCO2e\n",
      "[283936385.29872054, 117284804.49322955, 975619224.6277148, 419608864.9393575, 6843331392.03512, 13454346663.20655, 1174125539.2008026, 1002301604.113766, 5755458573.635958, 7613598362.253084, 46127883.82277209, 27862485.522229634, 9576523.922741232]\n",
      "[0.284, 0.117, 0.976, 0.42, 6.843, 13.454, 1.174, 1.002, 5.755, 7.614, 0.046, 0.028, 0.01]\n"
     ]
    }
   ],
   "source": [
    "#2. Calculating residential structures CO2e by provinve CIRAIG's method\n",
    "res_structures_kgCO2_ciraig = list()\n",
    "res_structures_MTCO2_ciraig = list()\n",
    "\n",
    "for province in provinces:\n",
    "    # 1. define Y vector\n",
    "    gfc_res_const = tables_Y[(province,'Gross fixed capital formation, Construction','Residential structures')]\n",
    "    \n",
    "    # 2. Calculating encironemtnal impact using CIRIAGS's IO tables\n",
    "    total_output = tables_C.dot(tables_S).dot(tables_L).dot(gfc_res_const)\n",
    "    pd.DataFrame(total_output)\n",
    "\n",
    "    ## 3. This lin sorts out the short term impacts of the selected data\n",
    "    report_list1 = total_output.loc[('Climate change, short term','kg CO2 eq (short)')]\n",
    "        # Calculation Message\n",
    "    print (province +' GFC res structures '+ str(round(report_list1.sum()/1000000000, 3)) +' MTCO2e')\n",
    "    res_structures_kgCO2_ciraig.append(report_list1)\n",
    "    report_list2 = round(report_list1.sum()/1000000000, 3)\n",
    "    res_structures_MTCO2_ciraig.append(report_list2)\n",
    "    \n",
    "#print (res_structures_kgCO2_ciraig)\n",
    "#print (res_structures_MTCO2_ciraig)"
   ]
  },
  {
   "cell_type": "code",
   "execution_count": 12,
   "metadata": {},
   "outputs": [
    {
     "name": "stdout",
     "output_type": "stream",
     "text": [
      "[1107094757.0, 444015434.0, 2774141254.0, 1675252013.0, 26828108716.0, 60419424940.0, 4306477504.0, 3051688297.0, 18256823569.0, 28269738534.0, 158235601.0, 88382990.0, 33885628.0]\n",
      "[0.3, 0.12, 0.75, 0.45, 7.24, 16.31, 1.16, 0.82, 4.93, 7.63, 0.04, 0.02, 0.01]\n"
     ]
    }
   ],
   "source": [
    "# 3.this block calculates the GCF - residential structures total-output(Y) for every province\n",
    "#and appends it.\n",
    "residential_structures_X = []\n",
    "\n",
    "for province in provinces:\n",
    "    # 1. defince Y vector\n",
    "    res_structY = tables_Y[(province,'Gross fixed capital formation, Construction','Residential structures')]\n",
    "    total_sum = res_structY.sum()\n",
    "    # 2. Calculating encironemtnal impact using CIRIAGS's IO tables\n",
    "    #total_output = (tables_L).dot(res_structY)\n",
    "    #total_sum = total_output.sum()\n",
    "    residential_structures_X.append(round(total_sum,0))\n",
    "    #print (str(total_sum) +' , ' + province)\n",
    "\n",
    "    #Creatte a list, devide by 0.27, transform to MTCO2e and append to list\n",
    "    # based on industry emissions in canada from: https://www150.statcan.gc.ca/t1/tbl1/en/cv.action?pid=3810009801\n",
    "res_struct_MTCO2_statca = []\n",
    "for i in residential_structures_X:\n",
    "    x  = round(i*.27/1000000000,2)\n",
    "    res_struct_MTCO2_statca.append(x)\n",
    "\n",
    "#print (residential_structures_X) \n",
    "#print (res_struct_MTCO2_statca)"
   ]
  },
  {
   "cell_type": "code",
   "execution_count": 13,
   "metadata": {},
   "outputs": [
    {
     "data": {
      "text/html": [
       "<div>\n",
       "<style scoped>\n",
       "    .dataframe tbody tr th:only-of-type {\n",
       "        vertical-align: middle;\n",
       "    }\n",
       "\n",
       "    .dataframe tbody tr th {\n",
       "        vertical-align: top;\n",
       "    }\n",
       "\n",
       "    .dataframe thead th {\n",
       "        text-align: right;\n",
       "    }\n",
       "</style>\n",
       "<table border=\"1\" class=\"dataframe\">\n",
       "  <thead>\n",
       "    <tr style=\"text-align: right;\">\n",
       "      <th></th>\n",
       "      <th>total construction mtco2e CIRAIG</th>\n",
       "      <th>residential structures MTCO2e CIRAIG</th>\n",
       "      <th>residential_structures_MTCO2e_StatCA</th>\n",
       "    </tr>\n",
       "  </thead>\n",
       "  <tbody>\n",
       "    <tr>\n",
       "      <th>CA-NL</th>\n",
       "      <td>1.925</td>\n",
       "      <td>0.284</td>\n",
       "      <td>0.30</td>\n",
       "    </tr>\n",
       "    <tr>\n",
       "      <th>CA-PE</th>\n",
       "      <td>0.223</td>\n",
       "      <td>0.117</td>\n",
       "      <td>0.12</td>\n",
       "    </tr>\n",
       "    <tr>\n",
       "      <th>CA-NS</th>\n",
       "      <td>1.776</td>\n",
       "      <td>0.976</td>\n",
       "      <td>0.75</td>\n",
       "    </tr>\n",
       "    <tr>\n",
       "      <th>CA-NB</th>\n",
       "      <td>1.156</td>\n",
       "      <td>0.420</td>\n",
       "      <td>0.45</td>\n",
       "    </tr>\n",
       "    <tr>\n",
       "      <th>CA-QC</th>\n",
       "      <td>13.709</td>\n",
       "      <td>6.843</td>\n",
       "      <td>7.24</td>\n",
       "    </tr>\n",
       "    <tr>\n",
       "      <th>CA-ON</th>\n",
       "      <td>26.824</td>\n",
       "      <td>13.454</td>\n",
       "      <td>16.31</td>\n",
       "    </tr>\n",
       "    <tr>\n",
       "      <th>CA-MB</th>\n",
       "      <td>3.124</td>\n",
       "      <td>1.174</td>\n",
       "      <td>1.16</td>\n",
       "    </tr>\n",
       "    <tr>\n",
       "      <th>CA-SK</th>\n",
       "      <td>5.487</td>\n",
       "      <td>1.002</td>\n",
       "      <td>0.82</td>\n",
       "    </tr>\n",
       "    <tr>\n",
       "      <th>CA-AB</th>\n",
       "      <td>20.052</td>\n",
       "      <td>5.755</td>\n",
       "      <td>4.93</td>\n",
       "    </tr>\n",
       "    <tr>\n",
       "      <th>CA-BC</th>\n",
       "      <td>14.490</td>\n",
       "      <td>7.614</td>\n",
       "      <td>7.63</td>\n",
       "    </tr>\n",
       "    <tr>\n",
       "      <th>CA-YT</th>\n",
       "      <td>0.195</td>\n",
       "      <td>0.046</td>\n",
       "      <td>0.04</td>\n",
       "    </tr>\n",
       "    <tr>\n",
       "      <th>CA-NT</th>\n",
       "      <td>0.292</td>\n",
       "      <td>0.028</td>\n",
       "      <td>0.02</td>\n",
       "    </tr>\n",
       "    <tr>\n",
       "      <th>CA-NU</th>\n",
       "      <td>0.364</td>\n",
       "      <td>0.010</td>\n",
       "      <td>0.01</td>\n",
       "    </tr>\n",
       "  </tbody>\n",
       "</table>\n",
       "</div>"
      ],
      "text/plain": [
       "       total construction mtco2e CIRAIG  residential structures MTCO2e CIRAIG  \\\n",
       "CA-NL                             1.925                                 0.284   \n",
       "CA-PE                             0.223                                 0.117   \n",
       "CA-NS                             1.776                                 0.976   \n",
       "CA-NB                             1.156                                 0.420   \n",
       "CA-QC                            13.709                                 6.843   \n",
       "CA-ON                            26.824                                13.454   \n",
       "CA-MB                             3.124                                 1.174   \n",
       "CA-SK                             5.487                                 1.002   \n",
       "CA-AB                            20.052                                 5.755   \n",
       "CA-BC                            14.490                                 7.614   \n",
       "CA-YT                             0.195                                 0.046   \n",
       "CA-NT                             0.292                                 0.028   \n",
       "CA-NU                             0.364                                 0.010   \n",
       "\n",
       "       residential_structures_MTCO2e_StatCA  \n",
       "CA-NL                                  0.30  \n",
       "CA-PE                                  0.12  \n",
       "CA-NS                                  0.75  \n",
       "CA-NB                                  0.45  \n",
       "CA-QC                                  7.24  \n",
       "CA-ON                                 16.31  \n",
       "CA-MB                                  1.16  \n",
       "CA-SK                                  0.82  \n",
       "CA-AB                                  4.93  \n",
       "CA-BC                                  7.63  \n",
       "CA-YT                                  0.04  \n",
       "CA-NT                                  0.02  \n",
       "CA-NU                                  0.01  "
      ]
     },
     "execution_count": 13,
     "metadata": {},
     "output_type": "execute_result"
    }
   ],
   "source": [
    "#this block creates a df from of that compares CIRAIG's  emission\n",
    "#model to Stat CA emission factor for residential construction by province\n",
    "#lists\n",
    "provinces\n",
    "gcf_construction_MTCO2ciraig\n",
    "res_structures_MTCO2_ciraig\n",
    "res_struct_MTCO2_statca\n",
    "\n",
    "#dictionary of lists\n",
    "\n",
    "dict = {'total construction mtco2e CIRAIG':gcf_construction_MTCO2ciraig,\n",
    "        'residential structures MTCO2e CIRAIG': res_structures_MTCO2_ciraig,\n",
    "        'residential_structures_MTCO2e_StatCA': res_struct_MTCO2_statca\n",
    "        }\n",
    "#create dataframe from lists\n",
    "prov_emissions = pd.DataFrame(dict, index = provinces)\n",
    "## transform province emissions to MTCO2e \n",
    "\n",
    "#df['res_struct_MYCO2e_StatCA'] = df['residential structures CO2e']\n",
    "prov_emissions\n"
   ]
  },
  {
   "cell_type": "code",
   "execution_count": 15,
   "metadata": {},
   "outputs": [],
   "source": [
    "prov_emissions.to_csv(expath + 'province_construction_emissions_ciraig.csv')"
   ]
  },
  {
   "cell_type": "markdown",
   "metadata": {},
   "source": [
    "#### Calc residential_constrution CO2e/m2 for ON in 2018"
   ]
  },
  {
   "cell_type": "code",
   "execution_count": 18,
   "metadata": {},
   "outputs": [
    {
     "data": {
      "text/plain": [
       "13.454"
      ]
     },
     "execution_count": 18,
     "metadata": {},
     "output_type": "execute_result"
    }
   ],
   "source": [
    "res_structures_MTCO2_ciraig[5]"
   ]
  },
  {
   "attachments": {},
   "cell_type": "markdown",
   "metadata": {},
   "source": [
    "## Emission/m2 total residential construction (top-down approach)"
   ]
  },
  {
   "cell_type": "code",
   "execution_count": 22,
   "metadata": {},
   "outputs": [
    {
     "data": {
      "text/plain": [
       "515.0"
      ]
     },
     "execution_count": 22,
     "metadata": {},
     "output_type": "execute_result"
    }
   ],
   "source": [
    "# find emissions/residential_constrution m2 in ontario\n",
    "# the emission are devided by the 26.1 M sqm of residential building built in Canada. source is\n",
    "# https://oee.nrcan.gc.ca/corporate/statistics/neud/dpa/showTable.cfm?type=CP&sector=res&juris=on&rn=18&page=0\n",
    "# difference between total floor space built between 2018-2019\n",
    "on_co2_m2 = round(res_structures_MTCO2_ciraig[5].sum()/26100000*1000000000, 0)\n",
    "on_co2_m2"
   ]
  }
 ],
 "metadata": {
  "kernelspec": {
   "display_name": "IOtables",
   "language": "python",
   "name": "python3"
  },
  "language_info": {
   "codemirror_mode": {
    "name": "ipython",
    "version": 3
   },
   "file_extension": ".py",
   "mimetype": "text/x-python",
   "name": "python",
   "nbconvert_exporter": "python",
   "pygments_lexer": "ipython3",
   "version": "3.9.15"
  },
  "orig_nbformat": 4
 },
 "nbformat": 4,
 "nbformat_minor": 2
}
